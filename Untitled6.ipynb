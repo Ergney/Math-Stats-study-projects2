{
 "cells": [
  {
   "cell_type": "code",
   "execution_count": 2,
   "metadata": {},
   "outputs": [],
   "source": [
    "import numpy as np"
   ]
  },
  {
   "cell_type": "code",
   "execution_count": 3,
   "metadata": {},
   "outputs": [],
   "source": [
    "def combinations(n, k):\n",
    "    return np.math.factorial(n) // (np.math.factorial(k) * np.math.factorial(n - k))"
   ]
  },
  {
   "cell_type": "code",
   "execution_count": 4,
   "metadata": {},
   "outputs": [],
   "source": [
    "def arrangements(n, k):\n",
    "    return np.math.factorial(n) // np.math.factorial(n - k)"
   ]
  },
  {
   "cell_type": "code",
   "execution_count": 5,
   "metadata": {},
   "outputs": [],
   "source": [
    "def permutations(n):\n",
    "    return np.math.factorial(n)"
   ]
  },
  {
   "cell_type": "code",
   "execution_count": 6,
   "metadata": {},
   "outputs": [],
   "source": [
    "def dispersion(X_v, X_p):\n",
    "    M = X_v.dot(X_p)\n",
    "    X = (X_v - M) ** 2\n",
    "    dispersion = X.dot(X_p)\n",
    "    root_mean_square_deviation = np.math.sqrt(dispersion)\n",
    "    return {\"expected_value\":M, \"dispersion\":dispersion, \"root_mean_square_deviation\":root_mean_square_deviation}"
   ]
  },
  {
   "cell_type": "code",
   "execution_count": 7,
   "metadata": {},
   "outputs": [],
   "source": [
    "def bernuli(n, k, p):\n",
    "    X = combinations(n, k) * p**k * (1-p)**(n-k)\n",
    "    M = n * p\n",
    "    D = n * p * (1 - p)\n",
    "    return {\"event_probability\":X, \"expected_value\":M, \"dispersion\":D}"
   ]
  },
  {
   "cell_type": "code",
   "execution_count": 8,
   "metadata": {},
   "outputs": [],
   "source": [
    "def poisson_proba(k, lambda_):\n",
    "    \n",
    "    return (lambda_ ** k) * (np.exp(-lambda_)) / np.math.factorial(k)"
   ]
  },
  {
   "cell_type": "markdown",
   "metadata": {},
   "source": [
    "<b>Задача 1</b>\n",
    "\n",
    "<b>Контрольная работа состоит из пяти вопросов. На каждый вопрос приведено четыре варианта ответа, один из которых правильный. Составьте закон распределения числа правильных ответов при простом угадывании. Найдите M(X), D(X).</b>"
   ]
  },
  {
   "cell_type": "code",
   "execution_count": 11,
   "metadata": {},
   "outputs": [
    {
     "name": "stdout",
     "output_type": "stream",
     "text": [
      "Всего вариантов сдачи контрольной работы: 15504\n",
      "\n",
      "Вариантов когда правельных ответов 5: 1, вероятность: 6.449948400412796e-05\n",
      "Вариантов когда правельных ответов 4: 75, вероятность: 0.004837461300309598\n",
      "Вариантов когда правельных ответов 3: 1050, вероятность: 0.06772445820433437\n",
      "Вариантов когда правельных ответов 2: 4550, вероятность: 0.29347265221878227\n",
      "Вариантов когда правельных ответов 1: 6825, вероятность: 0.44020897832817335\n",
      "Вариантов когда правельных ответов 0: 3003, вероятность: 0.19369195046439627\n",
      "\n",
      "Сумма вероятностей равна: 0.9999999999999999 -> равна полной вероятности\n"
     ]
    },
    {
     "data": {
      "text/plain": [
       "{'expected_value': 1.25,\n",
       " 'dispersion': 0.7401315789473685,\n",
       " 'root_mean_square_deviation': 0.8603090020146067}"
      ]
     },
     "execution_count": 11,
     "metadata": {},
     "output_type": "execute_result"
    }
   ],
   "source": [
    "n = combinations(20, 5)\n",
    "x5 = combinations(5, 5) * combinations(15, 0) \n",
    "x4 = combinations(5, 4) * combinations(15, 1)\n",
    "x3 = combinations(5, 3) * combinations(15, 2)\n",
    "x2 = combinations(5, 2) * combinations(15, 3)\n",
    "x1 = combinations(5, 1) * combinations(15, 4)\n",
    "x0 = combinations(5, 0) * combinations(15, 5)\n",
    "x5_p = x5/n\n",
    "x4_p = x4/n\n",
    "x3_p = x3/n\n",
    "x2_p = x2/n\n",
    "x1_p = x1/n\n",
    "x0_p = x0/n\n",
    "\n",
    "print(f'Всего вариантов сдачи контрольной работы: {n}\\n')\n",
    "print(f'Вариантов когда правельных ответов 5: {x5}, вероятность: {x5_p}')\n",
    "print(f'Вариантов когда правельных ответов 4: {x4}, вероятность: {x4_p}')\n",
    "print(f'Вариантов когда правельных ответов 3: {x3}, вероятность: {x3_p}')\n",
    "print(f'Вариантов когда правельных ответов 2: {x2}, вероятность: {x2_p}')\n",
    "print(f'Вариантов когда правельных ответов 1: {x1}, вероятность: {x1_p}')\n",
    "print(f'Вариантов когда правельных ответов 0: {x0}, вероятность: {x0_p}\\n')\n",
    "\n",
    "print(f'Сумма вероятностей равна: {sum([x5_p, x4_p, x3_p, x2_p, x1_p, x0_p])} -> равна полной вероятности')\n",
    "\n",
    "X_v = np.array([0, 1, 2, 3, 4, 5])\n",
    "X_p = np.array([x0_p, x1_p, x2_p, x3_p, x4_p, x5_p])\n",
    "\n",
    "dispersion(X_v, X_p)"
   ]
  },
  {
   "cell_type": "markdown",
   "metadata": {},
   "source": [
    "<b>Задача 2</b>\n",
    "\n",
    "<b>Вероятность попадания в цель при одном выстреле равна 0.01. Какова вероятность того, что число попаданий при 200 выстрелах будет не менее 5 и не более 10?</b>"
   ]
  },
  {
   "cell_type": "code",
   "execution_count": 12,
   "metadata": {},
   "outputs": [
    {
     "name": "stdout",
     "output_type": "stream",
     "text": [
      "По формуле Бернулли: 0.05170612182193867\n",
      "\n",
      "Распределение Пуассона: 0.05170612182193867\n"
     ]
    }
   ],
   "source": [
    "n_bernulli = 0\n",
    "n_poisson = 0\n",
    "\n",
    "for x in range(5,10):\n",
    "    n_bernulli += bernuli(200, x, 0.01)['event_probability']\n",
    "    n_poisson += poisson_proba(x, 200*0.01)\n",
    "    \n",
    "\n",
    "print(f'По формуле Бернулли: {n_bernulli}\\n')\n",
    "print(f'Распределение Пуассона: {n_bernulli}')"
   ]
  },
  {
   "cell_type": "markdown",
   "metadata": {},
   "source": [
    "<b>Задача 3</b>\n",
    "\n",
    "<b>В условиях предыдущей задачи сколько выстрелов нужно сделать чтобы быть уверенным с вероятностью 0.9, что хотя бы 10 раз будет совершено попадание?</b>"
   ]
  },
  {
   "cell_type": "code",
   "execution_count": null,
   "metadata": {},
   "outputs": [],
   "source": [
    "#n = 9\n",
    "#p = 0\n",
    "#while p < 0.9:\n",
    "#    n += 1\n",
    "#    p = bernuli(n, 10, 0.01)['event_probability']\n",
    "#    if n > 5000:\n",
    "#        quit()\n",
    "\n",
    "#print(p)"
   ]
  },
  {
   "cell_type": "markdown",
   "metadata": {},
   "source": [
    "В теории этот цикл должен был повышать колличество испытаний пока не добъется необходимой вевроятности попадания 10 раз,\n",
    "но он почему то не работает так как в определенный момент ~ на 1000 испытаний, вероятность начинает снижаться."
   ]
  },
  {
   "cell_type": "code",
   "execution_count": null,
   "metadata": {},
   "outputs": [],
   "source": []
  }
 ],
 "metadata": {
  "kernelspec": {
   "display_name": "Python 3",
   "language": "python",
   "name": "python3"
  },
  "language_info": {
   "codemirror_mode": {
    "name": "ipython",
    "version": 3
   },
   "file_extension": ".py",
   "mimetype": "text/x-python",
   "name": "python",
   "nbconvert_exporter": "python",
   "pygments_lexer": "ipython3",
   "version": "3.8.5"
  }
 },
 "nbformat": 4,
 "nbformat_minor": 4
}
