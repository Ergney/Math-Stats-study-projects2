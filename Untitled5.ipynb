{
 "cells": [
  {
   "cell_type": "code",
   "execution_count": 1,
   "metadata": {},
   "outputs": [],
   "source": [
    "def factorial(n):\n",
    "    if n == 1:\n",
    "        return n\n",
    "    if n > 1:\n",
    "        return n * factorial(n-1)"
   ]
  },
  {
   "cell_type": "markdown",
   "metadata": {},
   "source": [
    "<b>Задача 1\n",
    "\n",
    "Группа студентов изучает 10 различных дисциплин. Сколькими способами можно составить расписание на понедельник, если в этот день должно быть 4 разных занятия?</b>"
   ]
  },
  {
   "cell_type": "code",
   "execution_count": 7,
   "metadata": {},
   "outputs": [
    {
     "name": "stdout",
     "output_type": "stream",
     "text": [
      "Ответ: 210 способов\n"
     ]
    }
   ],
   "source": [
    "n = 10\n",
    "k = 4\n",
    "\n",
    "x = factorial(n)/(factorial(k) * (factorial(n-k)))\n",
    "x = int(x)\n",
    "print(f'Ответ: {x} способов')"
   ]
  },
  {
   "cell_type": "markdown",
   "metadata": {},
   "source": [
    "<b>Задача 2\n",
    "\n",
    "Из колоды в 52 карты вынимают случайным образом 4 карты. Найти число исходов, соответствующих тому, что был вытянут хотя бы один туз.</b>"
   ]
  },
  {
   "cell_type": "markdown",
   "metadata": {},
   "source": [
    "В колоде 4 туза, соответсвенно вариантов вытянуть один будет 4, три остальные карты могут быть любыми так что считаем количество сочетаний для 3х вытягиваний и колоды из 51 оставшиейся карт: 51! / 3! * (51! - 3!), результат умножаем на 4"
   ]
  },
  {
   "cell_type": "code",
   "execution_count": 9,
   "metadata": {},
   "outputs": [
    {
     "name": "stdout",
     "output_type": "stream",
     "text": [
      "Ответ: 83300 исходов\n"
     ]
    }
   ],
   "source": [
    "n = 51\n",
    "k = 3\n",
    "\n",
    "x = factorial(n)/(factorial(k) * (factorial(n-k)))\n",
    "x = x * 4\n",
    "x = int(x)\n",
    "print(f'Ответ: {x} исходов')"
   ]
  },
  {
   "cell_type": "markdown",
   "metadata": {},
   "source": [
    "<b>Задача 3\n",
    "\n",
    "Семь человек рассаживаются наудачу на скамейке. Какова вероятность того, что два определённых человека будут сидеть рядом?</b>"
   ]
  },
  {
   "cell_type": "markdown",
   "metadata": {},
   "source": [
    "Общее количество вариантов рассаживания будет равняться: 7! = 5040\n",
    "\n",
    "Число благоприятных вариантов можно расчитать так: \n",
    "\n",
    "обозначим случайные объекты, которые должны распологаться рядом как х, остальные обьекты обозначим как y. С учетом обшего количества обектов 7 благоприятными будут следующие варианты размещения:\n",
    "\n",
    "<center>1# [(x x) y y y y y]</center>\n",
    "<center>2# [y (x x) y y y y]</center>\n",
    "<center>3# [y y (x x) y y y]</center>\n",
    "<center>4# [y y y (x x) y y]</center>\n",
    "<center>5# [y y y y (x x) y]</center>\n",
    "<center>6# [y y y y y (x x)]</center>\n",
    "\n",
    "итого 6 вариантов. \n",
    "\n",
    "теперь посчитаем количество благоприятных размещений для этих вариантов с учетом что всё это разные объекты. Для (x x) это будет 2! = 2, для остальных y будет 5! = 120. Итого 5! * 2! для каждого варианта, то есть: 240\n",
    "\n",
    "умножаем 6 на 240 и получаем число благоприятных вариантов: 1440\n",
    "\n",
    "делим 1440 на общее количество вариантов рассаживания 5040"
   ]
  },
  {
   "cell_type": "code",
   "execution_count": 37,
   "metadata": {},
   "outputs": [
    {
     "name": "stdout",
     "output_type": "stream",
     "text": [
      "Искомая вероятность равна: 0.2857142857142857\n"
     ]
    }
   ],
   "source": [
    "x = 1440 / 5040\n",
    "print(f'Искомая вероятность равна: {x}')"
   ]
  },
  {
   "cell_type": "markdown",
   "metadata": {},
   "source": [
    "<b>Задача 4\n",
    "\n",
    "Из 60 вопросов, входящих в экзаменационные билеты, студент знает 50. Какова вероятность того, что среди трёх наугад выбранных вопросов студент знает: а) все? б) два?</b>"
   ]
  },
  {
   "cell_type": "markdown",
   "metadata": {},
   "source": [
    "Всего вариантов вытянуть 3х вопросов будет:"
   ]
  },
  {
   "cell_type": "code",
   "execution_count": 47,
   "metadata": {},
   "outputs": [
    {
     "data": {
      "text/plain": [
       "34220.0"
      ]
     },
     "execution_count": 47,
     "metadata": {},
     "output_type": "execute_result"
    }
   ],
   "source": [
    "x = factorial(60) / (factorial(3) * factorial(60-3))\n",
    "x "
   ]
  },
  {
   "cell_type": "markdown",
   "metadata": {},
   "source": [
    "Вариантов когда эти три вопроса знает студент соответсвенно будет:"
   ]
  },
  {
   "cell_type": "code",
   "execution_count": 48,
   "metadata": {},
   "outputs": [
    {
     "data": {
      "text/plain": [
       "19600.0"
      ]
     },
     "execution_count": 48,
     "metadata": {},
     "output_type": "execute_result"
    }
   ],
   "source": [
    "x = factorial(50) / (factorial(3) * factorial(50-3))\n",
    "x "
   ]
  },
  {
   "cell_type": "markdown",
   "metadata": {},
   "source": [
    "Вариантов когда студент знает 2 вопроса из 3 будет:"
   ]
  },
  {
   "cell_type": "code",
   "execution_count": 59,
   "metadata": {},
   "outputs": [
    {
     "data": {
      "text/plain": [
       "12250.0"
      ]
     },
     "execution_count": 59,
     "metadata": {},
     "output_type": "execute_result"
    }
   ],
   "source": [
    "x = factorial(50) / (factorial(2) * factorial(50-2))\n",
    "y = factorial(10) / factorial(10-1)\n",
    "\n",
    "result = x * y\n",
    "result"
   ]
  },
  {
   "cell_type": "code",
   "execution_count": 60,
   "metadata": {},
   "outputs": [
    {
     "name": "stdout",
     "output_type": "stream",
     "text": [
      "Студент знает ответ на 3 вопроса с вероятностью: 0.5727644652250146\n",
      "Студент знает ответ на 2 вопроса с вероятностью: 0.35797779076563413\n"
     ]
    }
   ],
   "source": [
    "print(f'Студент знает ответ на 3 вопроса с вероятностью: {19600/34220}')\n",
    "print(f'Студент знает ответ на 2 вопроса с вероятностью: {12250/34220}')"
   ]
  },
  {
   "cell_type": "markdown",
   "metadata": {},
   "source": [
    "<b>Задача 5\n",
    "\n",
    "Бросается игральная кость. Пусть событие A - появление чётного числа, событие B - появление числа больше трёх. Являются ли эти события независимыми?</b>"
   ]
  },
  {
   "cell_type": "markdown",
   "metadata": {},
   "source": [
    "Не совсем понимаю задачу. С одной стороны логически кажется что это вроде как вообще никак несвязанные события и должны быть независимыми. С другой стороны четные числа это 2,4,6 ,а числа выше 3х это 4,5,6 и получается что если выпадет четное число то с вероятностью 2/3 это число больше 3, в то время как вероятность просто появления числа больше 3 равна 1/2. "
   ]
  },
  {
   "cell_type": "code",
   "execution_count": null,
   "metadata": {},
   "outputs": [],
   "source": []
  }
 ],
 "metadata": {
  "kernelspec": {
   "display_name": "Python 3",
   "language": "python",
   "name": "python3"
  },
  "language_info": {
   "codemirror_mode": {
    "name": "ipython",
    "version": 3
   },
   "file_extension": ".py",
   "mimetype": "text/x-python",
   "name": "python",
   "nbconvert_exporter": "python",
   "pygments_lexer": "ipython3",
   "version": "3.8.5"
  }
 },
 "nbformat": 4,
 "nbformat_minor": 4
}
