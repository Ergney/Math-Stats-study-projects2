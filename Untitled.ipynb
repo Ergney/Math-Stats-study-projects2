{
 "cells": [
  {
   "cell_type": "markdown",
   "metadata": {},
   "source": [
    "1. Из колоды в 52 карты извлекаются случайным образом 4 карты. \n",
    "    a) Найти вероятность того, что все карты – крести. \n",
    "    б) Найти вероятность, что среди 4-х карт окажется хотя бы один туз."
   ]
  },
  {
   "cell_type": "code",
   "execution_count": 47,
   "metadata": {},
   "outputs": [],
   "source": [
    "def fact(x):\n",
    "    if x == 1:\n",
    "        return(x)\n",
    "    elif 1001 > x > 1 and x % 1 == 0:\n",
    "        return(x * fact(x-1))\n",
    "    else:\n",
    "        return(\"Incorrect value.\")"
   ]
  },
  {
   "cell_type": "markdown",
   "metadata": {},
   "source": [
    "Сперва рассчитаем сколько есть способов вытащить из колоды 4 карты."
   ]
  },
  {
   "cell_type": "code",
   "execution_count": 48,
   "metadata": {},
   "outputs": [
    {
     "data": {
      "text/plain": [
       "6497400.0"
      ]
     },
     "execution_count": 48,
     "metadata": {},
     "output_type": "execute_result"
    }
   ],
   "source": [
    "#X = 52 * 51 * 50 * 49\n",
    "X = fact(52) / fact(52-4)\n",
    "X"
   ]
  },
  {
   "cell_type": "markdown",
   "metadata": {},
   "source": [
    "a)\n",
    "Теперь расчитаем сколько есть сбособов вытащить крести.\n",
    "Крестей в колоде должно быть четверть соответсвенно 52\\4 = 13"
   ]
  },
  {
   "cell_type": "code",
   "execution_count": 49,
   "metadata": {},
   "outputs": [],
   "source": [
    "#Y = 13 * 12 * 11 * 10\n",
    "Y = fact(13)/fact(13-4)"
   ]
  },
  {
   "cell_type": "markdown",
   "metadata": {},
   "source": [
    "Теперь делим количество удволетворяющих условию исходов на общее количество исходов и получаем искомую вероятность."
   ]
  },
  {
   "cell_type": "code",
   "execution_count": 51,
   "metadata": {},
   "outputs": [
    {
     "name": "stdout",
     "output_type": "stream",
     "text": [
      "Ответ: 0.0083333333\n"
     ]
    }
   ],
   "source": [
    "result_a = Y/X\n",
    "result_a = round(result_a, 10)\n",
    "result_a\n",
    "print(f'Ответ: {result_b}')"
   ]
  },
  {
   "cell_type": "markdown",
   "metadata": {},
   "source": [
    "б)Тузов в колоде должно быть 4 штуки. Соответсвенно колличество исходов с вытягиванием хотя бы одного туза должно равняться:\n",
    "    4 * количество всех возможных комбинаций трех карт из оставшихся в колоде 51."
   ]
  },
  {
   "cell_type": "code",
   "execution_count": 52,
   "metadata": {
    "scrolled": true
   },
   "outputs": [
    {
     "data": {
      "text/plain": [
       "499800.0"
      ]
     },
     "execution_count": 52,
     "metadata": {},
     "output_type": "execute_result"
    }
   ],
   "source": [
    "#Y1 = 4 * 51 * 50 * 49\n",
    "Y1 = 4 * (fact(51)/fact(51-3))\n",
    "Y1"
   ]
  },
  {
   "cell_type": "markdown",
   "metadata": {},
   "source": [
    "Получилось колличество удволетворяющих условию исходов. Делим его на общее количество исходов и получаем искомую вероятность."
   ]
  },
  {
   "cell_type": "code",
   "execution_count": 53,
   "metadata": {},
   "outputs": [
    {
     "name": "stdout",
     "output_type": "stream",
     "text": [
      "Ответ: 0.0769230769\n"
     ]
    }
   ],
   "source": [
    "result_b = Y1/X\n",
    "result_b = round(result_b, 10)\n",
    "\n",
    "print(f'Ответ: {result_b}')"
   ]
  },
  {
   "cell_type": "markdown",
   "metadata": {},
   "source": [
    "2. На входной двери подъезда установлен кодовый замок, содержащий десять кнопок с цифрами от 0 до 9. \n",
    "Код содержит три цифры, которые нужно нажать одновременно. Какова вероятность того, что человек, не знающий код, откроет дверь с первой попытки?\n",
    "\n",
    "\n",
    "Я немного не понял, что значит нажать одновременно. Это значит что не получиться ввести несколько одинаковых цифр (111, 222, 331 и т д например) или что варианты кода считаются одинаковыми если состоят из одинх и тех же цифр вне зависимости от порядка (123 == 321 == 231 напирмер)?\n",
    "\n",
    "Так что первый ответ для первого варианта, а второй для второго."
   ]
  },
  {
   "cell_type": "markdown",
   "metadata": {},
   "source": [
    "Сперва расчитаем сколько всего есть вариантов нажатия 3 цифр одновременно при заданных условиях."
   ]
  },
  {
   "cell_type": "code",
   "execution_count": 54,
   "metadata": {},
   "outputs": [
    {
     "data": {
      "text/plain": [
       "720.0"
      ]
     },
     "execution_count": 54,
     "metadata": {},
     "output_type": "execute_result"
    }
   ],
   "source": [
    "#а)\n",
    "#Q1 = 10 * 9 * 8 \n",
    "Q1 = fact(10) / fact(10-3)\n",
    "Q1"
   ]
  },
  {
   "cell_type": "code",
   "execution_count": 55,
   "metadata": {},
   "outputs": [
    {
     "data": {
      "text/plain": [
       "120.0"
      ]
     },
     "execution_count": 55,
     "metadata": {},
     "output_type": "execute_result"
    }
   ],
   "source": [
    "#б)\n",
    "Q2 = fact(10) / (fact(3) *  fact(10-3))\n",
    "Q2"
   ]
  },
  {
   "cell_type": "markdown",
   "metadata": {},
   "source": [
    "Теперь делим число удволетворяющих условию исходов (1) на это значение"
   ]
  },
  {
   "cell_type": "code",
   "execution_count": 56,
   "metadata": {},
   "outputs": [
    {
     "name": "stdout",
     "output_type": "stream",
     "text": [
      "Ответ:\n",
      " a = 0.0013888889\n",
      " b = 0.0083333333\n"
     ]
    }
   ],
   "source": [
    "#a)\n",
    "result_a = 1/720\n",
    "result_a = round(result_a, 10)\n",
    "#б) \n",
    "result_b = 1/120\n",
    "result_b = round(result_b, 10)\n",
    "\n",
    "print(f'Ответ:\\n a = {result_a}\\n b = {result_b}')"
   ]
  },
  {
   "cell_type": "markdown",
   "metadata": {},
   "source": [
    "3. В ящике имеется 15 деталей, из которых 9 окрашены. Рабочий случайным образом извлекает 3 детали. \n",
    "Какова вероятность того, что все извлеченные детали окрашены?"
   ]
  },
  {
   "cell_type": "markdown",
   "metadata": {},
   "source": [
    "Всего вариантов достать 3 детали будет: 15 * 14 * 13, способов достать 3 окрашенные детали будет: 9 * 8 * 7. \n",
    "Соотвественно ответ будет 9 * 8 * 7 / 15 * 14 * 13"
   ]
  },
  {
   "cell_type": "code",
   "execution_count": 64,
   "metadata": {},
   "outputs": [
    {
     "name": "stdout",
     "output_type": "stream",
     "text": [
      "Ответ: 0.1846153846\n"
     ]
    }
   ],
   "source": [
    "X2 = 15*14*13\n",
    "Y2 = 9*8*7\n",
    "\n",
    "result_3 = Y2/X2 \n",
    "result_3 = round(result_3, 10)\n",
    "\n",
    "print(f'Ответ: {result_3}')"
   ]
  },
  {
   "cell_type": "markdown",
   "metadata": {},
   "source": [
    "4. В лотерее 100 билетов. Из них 2 выигрышных. Какова вероятность того, что 2 приобретенных билета окажутся выигрышными?"
   ]
  },
  {
   "cell_type": "markdown",
   "metadata": {},
   "source": [
    "Всего вариантов будет покупки 2х билетов: 100 * 99 , вариант когда оба билета выигрышны может быть только 1. \n",
    "\n",
    "Соответвенно вероятность будет: 1 / 100 * 99"
   ]
  },
  {
   "cell_type": "code",
   "execution_count": 66,
   "metadata": {},
   "outputs": [
    {
     "name": "stdout",
     "output_type": "stream",
     "text": [
      "Ответ: 0.0001010101\n"
     ]
    }
   ],
   "source": [
    "X3 = 100 * 99\n",
    "result_4 = 1/X3\n",
    "result_4 = round(result_4, 10)\n",
    "\n",
    "print(f'Ответ: {result_4}')"
   ]
  },
  {
   "cell_type": "markdown",
   "metadata": {},
   "source": [
    "5. На соревновании по биатлону один из трех спортсменов стреляет и попадает в мишень. Вероятность попадания для первого спортсмена равна 0.9, для второго — 0.8, для третьего — 0.6. Найти вероятность того, что выстрел произведен: a). первым спортсменом б). вторым спортсменом в). третьим спортсменом."
   ]
  },
  {
   "cell_type": "code",
   "execution_count": 68,
   "metadata": {},
   "outputs": [
    {
     "name": "stdout",
     "output_type": "stream",
     "text": [
      " a) 0.9 \n",
      " b) 0.8 \n",
      " c) 0.6 \n",
      " в условии жеж написано ¯\\_(ツ)_/¯\n"
     ]
    }
   ],
   "source": [
    "print(f' a) 0.9 \\n b) 0.8 \\n c) 0.6 \\n в условии жеж написано ¯\\_(ツ)_/¯')"
   ]
  }
 ],
 "metadata": {
  "kernelspec": {
   "display_name": "Python 3",
   "language": "python",
   "name": "python3"
  },
  "language_info": {
   "codemirror_mode": {
    "name": "ipython",
    "version": 3
   },
   "file_extension": ".py",
   "mimetype": "text/x-python",
   "name": "python",
   "nbconvert_exporter": "python",
   "pygments_lexer": "ipython3",
   "version": "3.8.5"
  }
 },
 "nbformat": 4,
 "nbformat_minor": 4
}
