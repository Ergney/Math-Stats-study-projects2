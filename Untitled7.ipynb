{
 "cells": [
  {
   "cell_type": "code",
   "execution_count": 1,
   "metadata": {},
   "outputs": [],
   "source": [
    "import numpy as np\n",
    "import pandas as pd\n",
    "from matplotlib import pyplot as plt"
   ]
  },
  {
   "cell_type": "markdown",
   "metadata": {},
   "source": [
    "<b>Задача 1</b>\n",
    "\n",
    "Даны значения зарплат из выборки выпускников:\n",
    "\n",
    "100, 80, 75, 77, 89, 33, 45, 25, 65, 17, 30, 24, 57, 55, 70, 75, 65, 84, 90, 150.\n",
    "\n",
    "Без использования статистических функций вроде mean, std, var, посчитать среднее арифметическое, среднее квадратичное отклонение, смещенную и несмещенную оценки дисперсий для данной выборки.\n",
    "\n",
    "Можно затем посчитать те же значения с использованием статистических функций, чтобы проверить себя."
   ]
  },
  {
   "cell_type": "code",
   "execution_count": 2,
   "metadata": {},
   "outputs": [],
   "source": [
    "x = np.array([100, 80, 75, 77, 89, 33, 45, 25, 65, 17, 30, 24, 57, 55, 70, 75, 65, 84, 90, 150])"
   ]
  },
  {
   "cell_type": "code",
   "execution_count": 3,
   "metadata": {},
   "outputs": [],
   "source": [
    "сount_x = len(x)\n",
    "sum_x = sum(x)\n",
    "mean_x = sum_x/сount_x"
   ]
  },
  {
   "cell_type": "code",
   "execution_count": 4,
   "metadata": {},
   "outputs": [],
   "source": [
    "x_dispersion_shift = sum((x - mean_x) ** 2) / сount_x\n",
    "x_disp_not_not_shift = sum((x - mean_x) ** 2) / (сount_x - 1)\n",
    "x_root_mean_square = np.sqrt(sum((x - mean_x) ** 2) / сount_x)"
   ]
  },
  {
   "cell_type": "code",
   "execution_count": 5,
   "metadata": {},
   "outputs": [
    {
     "name": "stdout",
     "output_type": "stream",
     "text": [
      "Колличество значений в выборке: 20\n",
      "Cреднее арифметическое выборки: 65.3\n",
      "Cреднее квадратичное отклонение: 30.823854398825596\n",
      "Cмещенная оценка дисперсий: 950.11\n",
      "Несмещенная оценка дисперсий: 1000.1157894736842\n"
     ]
    }
   ],
   "source": [
    "print(f'Колличество значений в выборке: {сount_x}')\n",
    "print(f'Cреднее арифметическое выборки: {mean_x}')\n",
    "print(f'Cреднее квадратичное отклонение: {x_root_mean_square}')\n",
    "print(f'Cмещенная оценка дисперсий: {x_dispersion_shift}')\n",
    "print(f'Несмещенная оценка дисперсий: {x_disp_not_not_shift}')"
   ]
  },
  {
   "cell_type": "code",
   "execution_count": 6,
   "metadata": {},
   "outputs": [
    {
     "name": "stdout",
     "output_type": "stream",
     "text": [
      "Проверка. \n",
      "\n",
      "Cреднее арифметическое выборки: 65.3\n",
      "Cреднее квадратичное отклонение: 30.823854398825596\n",
      "Cмещенная оценка дисперсий: 950.11\n",
      "Несмещенная оценка дисперсий: 1000.1157894736842\n"
     ]
    }
   ],
   "source": [
    "print(f'Проверка. \\n')\n",
    "print(f'Cреднее арифметическое выборки: {x.mean()}')\n",
    "print(f'Cреднее квадратичное отклонение: {x.std()}')\n",
    "print(f'Cмещенная оценка дисперсий: {x.var(ddof=0)}')\n",
    "print(f'Несмещенная оценка дисперсий: {x.var(ddof=1)}')"
   ]
  },
  {
   "cell_type": "markdown",
   "metadata": {},
   "source": [
    "<b>Задача 2</b>\n",
    "\n",
    "Для выборки из задачи 1 найти первый и третий квартили, интерквартильное расстояние. Найти выборсы в выборке, используя для этого \"усы\" из boxplot. В этой задаче можно использовать статистические функции."
   ]
  },
  {
   "cell_type": "code",
   "execution_count": 7,
   "metadata": {},
   "outputs": [],
   "source": [
    "x = pd.DataFrame(x)"
   ]
  },
  {
   "cell_type": "code",
   "execution_count": 14,
   "metadata": {},
   "outputs": [],
   "source": [
    "x_quan_25 = x.quantile(0.25)\n",
    "x_quan_75 = x.quantile(0.75)\n",
    "x_interquart = x_quan_75 - x_quan_25\n",
    "\n",
    "x_min_limit = x_quan_25 - (1.5 * x_interquart)\n",
    "x_max_limit = x_quan_75 + (1.5 * x_interquart)\n",
    "y = x.loc[(x[0] > 100) | (x[0] < 20)]"
   ]
  },
  {
   "cell_type": "code",
   "execution_count": 15,
   "metadata": {},
   "outputs": [
    {
     "name": "stdout",
     "output_type": "stream",
     "text": [
      "Первый квартиль: 42.0\n",
      "Третий квартиль: 81.0\n",
      "Интерквартильное расстояние: 39.0\n",
      "Выборсы в выборке: 150    1\n",
      "17     1\n",
      "dtype: int64\n"
     ]
    },
    {
     "data": {
      "text/plain": [
       "<AxesSubplot:>"
      ]
     },
     "execution_count": 15,
     "metadata": {},
     "output_type": "execute_result"
    },
    {
     "data": {
      "image/png": "[encoded data removed]",
      "text/plain": [
       "<Figure size 432x288 with 1 Axes>"
      ]
     },
     "metadata": {
      "needs_background": "light"
     },
     "output_type": "display_data"
    }
   ],
   "source": [
    "print(f'Первый квартиль: {float(x_quan_25)}')\n",
    "print(f'Третий квартиль: {float(x_quan_75)}')\n",
    "print(f'Интерквартильное расстояние: {float(x_interquart)}')\n",
    "print(f'Выборсы в выборке: {y.value_counts()}')\n",
    "x.boxplot()"
   ]
  },
  {
   "cell_type": "markdown",
   "metadata": {},
   "source": [
    "Задача 3\n",
    "\n",
    "В университет на факультеты A и B поступило равное количество студентов, а на факультет C студентов поступило столько же, сколько на A и B вместе. Вероятность того, что студент факультета A сдаст первую сессию, равна 0.8. Для студента факультета B эта вероятность равна 0.7, а для студента факультета C - 0.9. Студент сдал первую сессию. Какова вероятность, что он учится: a) на факультете A? б) на факультете B? в) на факультете C?"
   ]
  },
  {
   "cell_type": "markdown",
   "metadata": {},
   "source": [
    "Я не совсем понимаю как это вообще решать, но попоробую рассуждать логически.\n",
    "Условие можно записать вот так:\n",
    "A: n = x, p = 0.8\n",
    "B: n = x, p = 0.7\n",
    "C: n = 2x, p = 0.9\n",
    "\n",
    "Вроде как логически сперва кажется если студент сдал сессию, то вероятность что он учитаться на каком то факультете равна вероятности сдать сессию на этом факультете. Соотвественно, что на факультете A р = 0.8, на факультете B p = 0.7 факультете C p = 0.9.\n",
    "\n",
    "Но это было-бы как-то слишком просто и непонятно зачем тогда дано колличество студентов на факультетах. Попробую порассуждать ещё. \n",
    "\n",
    "После сессии на факультетах должно остаться следующее количество студентов стдавших сессию исходя и вероятности её сдать. \n",
    "\n",
    "A: n = x * 0.8 = 0.8x\n",
    "B: n = x * 0.7 = 0.7x\n",
    "С: n = x * 2 * 0.9 = 1.8x\n",
    "\n",
    "В общем выйдет 0.8х + 0.7х + 1.8х = 3.3х\n",
    "\n",
    "из этого числа берется один студент и необходимо вычислить с какой вероятностью он относиться к факультету A, B и С.\n",
    "\n",
    "При этом так-как студент может быть только на одном факультете сумма этих вероятностей должна равняться единцице.\n",
    "Т.е. P(A) + P(B) + P(C) = 1.\n",
    "\n",
    "И вероятность для каждого факультета будет равняться числу сдавших сессию студентов на факультете поделить на общее количество сдавших студентов. Т.е:\n",
    "\n",
    "Для А: 0.8х / 3.3х  = 0.(24), y = 0.(24), 100y = 24.0 + 0.(24), 99y = 24, y = 24/99 = 8 / 33\n",
    "\n",
    "Для В: 0.7х / 3.3х  = 0.(21), y = 0.(24), 100y = 21.0 + 0.(21), 99y = 21, y = 21/99 = 7 / 33\n",
    "\n",
    "Для С: 1.8х / 3.3х  = 0.(54), y = 0.(54), 100y = 54.0 + 0.(54), 99y = 54, y = 54/99 = 18 / 33 = 6 / 11\n",
    "\n",
    "Ну вроде всё логично, если это не так решается то я не знаю как, объясните ¯ \\ _ (ツ) _ / ¯"
   ]
  }
 ],
 "metadata": {
  "kernelspec": {
   "display_name": "Python 3",
   "language": "python",
   "name": "python3"
  },
  "language_info": {
   "codemirror_mode": {
    "name": "ipython",
    "version": 3
   },
   "file_extension": ".py",
   "mimetype": "text/x-python",
   "name": "python",
   "nbconvert_exporter": "python",
   "pygments_lexer": "ipython3",
   "version": "3.8.5"
  }
 },
 "nbformat": 4,
 "nbformat_minor": 4
}
