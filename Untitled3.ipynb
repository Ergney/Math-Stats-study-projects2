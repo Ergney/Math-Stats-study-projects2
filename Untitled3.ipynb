{
 "cells": [
  {
   "cell_type": "markdown",
   "metadata": {},
   "source": [
    "<b>__1.__ Исследовать на линейную зависимость:\n",
    "\\\n",
    "\\\n",
    "$$f_{1}(x)=e^{x}, f_{2}(x)=1, f_{3}(x)=x+1, f_{4}(x)=x-e^{x}.$$</b>"
   ]
  },
  {
   "cell_type": "markdown",
   "metadata": {},
   "source": [
    " $$т.к.\\ f_{4}(x)=x-e^{x}.$$\n",
    " \\\n",
    " $$её\\ можно\\ выразить\\ как:$$\n",
    " \\\n",
    " $$f_{4}(x)=(x+1)-(1)-(e^x)$$\n",
    " \\\n",
    " $$или\\ же:$$\n",
    " \\\n",
    " $$f_{4}(x)=f_{3}(x) - f_{2}(x) - f_{1}(x)$$"
   ]
  },
  {
   "cell_type": "markdown",
   "metadata": {},
   "source": [
    "$$т.к\\ вектор\\ f_{4}(x)\\ получилось\\ выразить\\ при\\ помощи\\ других\\ векторов\\ вектора\\ линейно\\ зависимы$$"
   ]
  },
  {
   "cell_type": "markdown",
   "metadata": {},
   "source": [
    "\\\n",
    "<b>__2.__ Исследовать на линейную зависимость:\n",
    "\\\n",
    "\\\n",
    "$$f_{1}(x)=2, f_{2}(x)=x, f_{3}(x)=x^{2}, f_{4}(x)=(x+1)^{2}$$</b>"
   ]
  },
  {
   "cell_type": "markdown",
   "metadata": {},
   "source": [
    "$$т.к.\\ (x+1)^2 = x^2 + 2x + 1$$ "
   ]
  },
  {
   "cell_type": "markdown",
   "metadata": {},
   "source": [
    "$$f_{4}(x)=(x+1)^{2}\\ можно\\ представить\\ как:$$\n",
    "\\\n",
    "$$f_{4}(x)=(x^2) + 2*(x) + 0.5*(2)$$\n",
    "\\\n",
    "$$или\\ же:$$\n",
    "\\\n",
    "$$f_{4}(x)=f_{3}(x) + 2*f_{2}(x) + 0.5 * f_{1}(x)$$"
   ]
  },
  {
   "cell_type": "markdown",
   "metadata": {},
   "source": [
    "$$т.к\\ вектор\\ f_{4}(x)\\ получилось\\ выразить\\ при\\ помощи\\ других\\ векторов\\ вектора\\ линейно\\ зависимы$$"
   ]
  },
  {
   "cell_type": "markdown",
   "metadata": {},
   "source": [
    "\\\n",
    "<b>__3.__ Найти координаты вектора $x = (2, 3, 5)\\in \\mathbb{R}^{3}$ в базисе $b_{1}=(0, 0, 10)$, $b_{2}=(2, 0, 0)$, $b_{3}=(0, 1, 0)$.</b>\n"
   ]
  },
  {
   "cell_type": "markdown",
   "metadata": {},
   "source": [
    "$$x = (2, 3, 5)\\in \\mathbb{R}^{3} = (b_{2},3b_{1},0.5b_{1})\\in {B}^{3}$$"
   ]
  },
  {
   "cell_type": "markdown",
   "metadata": {},
   "source": [
    "\\\n",
    "<b>__4.__ Найти координаты вектора $3x^{2}-2x+2\\in\\mathbb{R}^{3}[x]$:\n",
    "\n",
    "а) в базисе $1$, $x$, $x^{2}$;\n",
    "\n",
    "б) в базисе $x^{2}$, $x-1$, $1$.</b>"
   ]
  },
  {
   "cell_type": "markdown",
   "metadata": {},
   "source": [
    "a) $$3x^{2}-2x+2\\in\\mathbb{R}^{3}[x]$$\n",
    "\\\n",
    "$${e}_1 = (1,0,0)$$\n",
    "$${e}_2 = (0,x,0)$$\n",
    "$${e}_3 = (0,0,x^2)$$\n",
    "\n",
    "$$3x^{2}-2x+2\\in\\mathbb{R}^{3}[x] = (3{e}_3, -2{e}_2, {e}_1)\\in{E}^{3}[x]$$"
   ]
  },
  {
   "cell_type": "markdown",
   "metadata": {},
   "source": [
    "б) $$3x^{2}-2x+2\\in\\mathbb{R}^{3}[x]$$\n",
    "\\\n",
    "$${e}_1 = (x^2,0,0,0)$$\n",
    "$${e}_2 = (0,x,0,0)$$\n",
    "$${e}_3 = (0,0,-1,0)$$\n",
    "$${e}_3 = (0,0,0,1)$$\n",
    "\n",
    "$$3x^{2}-2x+2\\in\\mathbb{R}^{3}[x] = (3{e}_1, -2{e}_2, -2{e}_3, 0{e}_4)\\in{E}^{3}[x]$$"
   ]
  },
  {
   "cell_type": "markdown",
   "metadata": {},
   "source": [
    "\\\n",
    "<b>__1.__ Найти скалярное произведение векторов $x, y \\in \\mathbb{R}$:<br>\n",
    "а) $x=(0,-3, 6),~y=(-4, 7, 9);$<br>\n",
    "б) $x=(7, -4, 0, 1),~y=(-3, 1, 11, 2).$</b>"
   ]
  },
  {
   "cell_type": "markdown",
   "metadata": {},
   "source": [
    "a)\n",
    "$$(x,y)=(0)*(-4)+(-3)*(7)+(6)*(9)=0+(-21)+54=33$$\n",
    "б)\n",
    "$$(x,y)=(7)*(-3)+(-4)*(1)+(0)*(11)+(1)*(2)=(-21)+(-4)+0+2=-23$$"
   ]
  },
  {
   "cell_type": "markdown",
   "metadata": {},
   "source": [
    "проврека:"
   ]
  },
  {
   "cell_type": "code",
   "execution_count": 1,
   "metadata": {},
   "outputs": [],
   "source": [
    "import numpy as np"
   ]
  },
  {
   "cell_type": "code",
   "execution_count": 2,
   "metadata": {},
   "outputs": [],
   "source": [
    "a1 = np.array([0,-3,6])\n",
    "b1 = np.array([-4,7,9])\n",
    "\n",
    "a2 = np.array([7,-4,0,1])\n",
    "b2 = np.array([-3,1,11,2])"
   ]
  },
  {
   "cell_type": "code",
   "execution_count": 14,
   "metadata": {},
   "outputs": [
    {
     "name": "stdout",
     "output_type": "stream",
     "text": [
      " a)(x,y)=33 \n",
      " б)(x,y)=-23\n"
     ]
    }
   ],
   "source": [
    "print(f' a)(x,y)={np.dot(a1,b1)} \\n б)(x,y)={np.dot(a2,b2)}')"
   ]
  },
  {
   "cell_type": "markdown",
   "metadata": {},
   "source": [
    "<b>__2.__ Найти нормы векторов $(4, 2, 4)$ и $(12, 3, 4)$ и угол между ними.</b>"
   ]
  },
  {
   "cell_type": "markdown",
   "metadata": {},
   "source": [
    "a = (4,2,4) \n",
    "b = (12,3,4)\n",
    "\n",
    "Mанхэттенская норма:\n",
    "\n",
    "$$\\ell_{1}=\\left\\|x\\right\\|_{1} = \\sum_{i}|x_{i}|;$$\n",
    "\n",
    "$$\\ell_{1}\\ для\\ a = |4|+|2|+|4| = 10$$\n",
    "$$\\ell_{1}\\ для\\ b = |12|+|3|+|4| = 19$$\n",
    "\n",
    "Евклидова норма:\n",
    "\n",
    "$$\\ell_{2}=\\left\\|x\\right\\|_{2} = \\sqrt{\\sum_{i}|x_{i}|^{2}}.$$"
   ]
  },
  {
   "cell_type": "markdown",
   "metadata": {},
   "source": [
    "$$\\ell_{2}\\ для\\ a = \\sqrt{|4|^2+|2|^2+|4|^2} = \\sqrt{16+4+16}=\\sqrt{36}=6$$\n",
    "$$\\ell_{2}\\ для\\ b = \\sqrt{|12|^2+|3|^2+|4|^2} = \\sqrt{144+9+16}=\\sqrt{169}=13$$"
   ]
  },
  {
   "cell_type": "markdown",
   "metadata": {},
   "source": [
    "Угол между векторами:\n",
    "\n",
    "$$cos\\varphi = \\frac{(x,y)}{\\left \\|x\\right \\|\\cdot\\left \\|y\\right \\|}.$$"
   ]
  },
  {
   "cell_type": "markdown",
   "metadata": {},
   "source": [
    "$$cos\\varphi = \\frac{4*12+2*3+4*4}{6*13}=\\frac{70}{{78}}\\approx 0,89$$"
   ]
  },
  {
   "cell_type": "markdown",
   "metadata": {},
   "source": [
    "проверка:"
   ]
  },
  {
   "cell_type": "code",
   "execution_count": 16,
   "metadata": {},
   "outputs": [],
   "source": [
    "from numpy.linalg import norm"
   ]
  },
  {
   "cell_type": "code",
   "execution_count": 17,
   "metadata": {},
   "outputs": [],
   "source": [
    "a = np.array([4,2,4]) \n",
    "b = np.array([12,3,4])"
   ]
  },
  {
   "cell_type": "code",
   "execution_count": 30,
   "metadata": {},
   "outputs": [
    {
     "name": "stdout",
     "output_type": "stream",
     "text": [
      " Манхетовская норма вектора a: 10.0\n",
      " Манхетовская норма вектора b: 19.0\n",
      " Евклидова норма вектора а: 6.0\n",
      " Евклидова норма вектора а: 13.0\n",
      " Угол между векторами a и b: 0.897\n"
     ]
    }
   ],
   "source": [
    "print(f' Манхетовская норма вектора a: {norm(a, ord=1)}')\n",
    "print(f' Манхетовская норма вектора b: {norm(b, ord=1)}')\n",
    "print(f' Евклидова норма вектора а: {norm(a, ord=2)}')\n",
    "print(f' Евклидова норма вектора а: {norm(b, ord=2)}')\n",
    "\n",
    "cos_phi = np.dot(a, b) / norm(a) / norm(b)\n",
    "print(f' Угол между векторами a и b: {round(cos_phi,3)}')"
   ]
  },
  {
   "cell_type": "markdown",
   "metadata": {},
   "source": [
    "<b>__3.__ Будет ли линейное пространство евклидовым, если за скалярное произведение принять:<br>\n",
    "а) произведение длин векторов;<br>\n",
    "б) утроенное обычное скалярное произведение векторов?<br></b>\n",
    "      \n"
   ]
  },
  {
   "cell_type": "markdown",
   "metadata": {},
   "source": [
    "a)\n",
    "Так как скалярное произведение это и есть произведение длин векторов пространство будет евклидовым.\n",
    "б)\n",
    "Пространство будет евклидовым так как 3 можно вынести как константу согластно этому правилу:\n",
    "$(\\lambda x, y)=\\lambda(x, y);$<br>\n",
    "\n"
   ]
  }
 ],
 "metadata": {
  "kernelspec": {
   "display_name": "Python 3",
   "language": "python",
   "name": "python3"
  },
  "language_info": {
   "codemirror_mode": {
    "name": "ipython",
    "version": 3
   },
   "file_extension": ".py",
   "mimetype": "text/x-python",
   "name": "python",
   "nbconvert_exporter": "python",
   "pygments_lexer": "ipython3",
   "version": "3.8.5"
  }
 },
 "nbformat": 4,
 "nbformat_minor": 4
}
